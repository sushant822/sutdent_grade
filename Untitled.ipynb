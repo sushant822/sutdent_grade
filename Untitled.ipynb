{
 "cells": [
  {
   "cell_type": "markdown",
   "metadata": {},
   "source": [
    "# <center>Student Grade Prediction</center>\n",
    "#### <center>by Sushant Deshpande</center>"
   ]
  },
  {
   "cell_type": "code",
   "execution_count": null,
   "metadata": {},
   "outputs": [],
   "source": [
    "import pandas as pd\n",
    "import warnings\n",
    "warnings.filterwarnings('ignore')"
   ]
  },
  {
   "cell_type": "code",
   "execution_count": null,
   "metadata": {},
   "outputs": [],
   "source": [
    "grades = pd.read_csv(\"data/grades.csv\")\n",
    "grades.head()"
   ]
  },
  {
   "cell_type": "markdown",
   "metadata": {},
   "source": [
    "<div class=\"alert alert-warning\">\n",
    "    <b>Attribute Information:</b>\n",
    "\n",
    "Attributes for both student-mat.csv (Math course) and student-por.csv (Portuguese language course) datasets:\n",
    "<ul><b>1 school</b> - student's school (binary: 'GP' - Gabriel Pereira or 'MS' - Mousinho da Silveira)</ul>\n",
    "<ul><b>2 sex</b> - student's sex (binary: 'F' - female or 'M' - male)</ul>\n",
    "<ul><b>3 age</b> - student's age (numeric: from 15 to 22)</ul>\n",
    "<ul><b>4 address</b> - student's home address type (binary: 'U' - urban or 'R' - rural)</ul>\n",
    "<ul><b>5 famsize</b> - family size (binary: 'LE3' - less or equal to 3 or 'GT3' - greater than 3)</ul>\n",
    "<ul><b>6 Pstatus</b> - parent's cohabitation status (binary: 'T' - living together or 'A' - apart)</ul>\n",
    "<ul><b>7 Medu</b> - mother's education (numeric: 0 - none, 1 - primary education (4th grade), 2 â€“ 5th to 9th grade, 3 â€“ secondary education or 4 â€“ higher education) UCI Machine Learning Repository: Student Performance Data Set https://archive.ics.uci.edu/ml/datasets/student+performance</ul>\n",
    "<ul><b>8 Fedu</b> - father's education (numeric: 0 - none, 1 - primary education (4th grade), 2 â€“ 5th to 9th grade, 3 â€“ secondary education or 4 â€“ higher education)</ul>\n",
    "<ul><b>9 Mjob</b> - mother's job (nominal: 'teacher', 'health' care related, civil 'services' (e.g. administrative or police), 'at_home' or 'other')</ul>\n",
    "<ul><b>10 Fjob</b> - father's job (nominal: 'teacher', 'health' care related, civil 'services' (e.g. administrative or police), 'at_home' or 'other')</ul>\n",
    "<ul><b>11 reason</b> - reason to choose this school (nominal: close to 'home', school 'reputation', 'course' preference or 'other')</ul>\n",
    "<ul><b>12 guardian</b> - student's guardian (nominal: 'mother', 'father' or 'other')</ul>\n",
    "<ul><b>13 traveltime</b> - home to school travel time (numeric: 1 - <15 min., 2 - 15 to 30 min., 3 - 30 min. to 1 hour, or 4 - >1 hour)</ul>\n",
    "<ul><b>14 studytime</b> - weekly study time (numeric: 1 - <2 hours, 2 - 2 to 5 hours, 3 - 5 to 10 hours, or 4 - >10 hours)</ul>\n",
    "    <ul><div><b>15 failures</b> - number of past class failures (numeric: n if 1<=n<3, else 4)</div></ul>\n",
    "<ul><b>16 schoolsup</b> - extra educational support (binary: yes or no)</ul>\n",
    "<ul><b>17 famsup</b> - family educational support (binary: yes or no)</ul>\n",
    "<ul><b>18 paid</b> - extra paid classes within the course subject (Math or Portuguese) (binary: yes or no)</ul>\n",
    "<ul><b>19 activities</b> - extra-curricular activities (binary: yes or no)</ul>\n",
    "<ul><b>20 nursery</b> - attended nursery school (binary: yes or no)</ul>\n",
    "<ul><b>21 higher</b> - wants to take higher education (binary: yes or no)</ul>\n",
    "<ul><b>22 internet</b> - Internet access at home (binary: yes or no)</ul>\n",
    "<ul><b>23 romantic</b> - with a romantic relationship (binary: yes or no)</ul>\n",
    "<ul><b>24 famrel</b> - quality of family relationships (numeric: from 1 - very bad to 5 - excellent)</ul>\n",
    "<ul><b>25 freetime</b> - free time after school (numeric: from 1 - very low to 5 - very high)</ul>\n",
    "<ul><b>26 goout</b> - going out with friends (numeric: from 1 - very low to 5 - very high)</ul>\n",
    "<ul><b>27 Dalc</b> - workday alcohol consumption (numeric: from 1 - very low to 5 - very high)</ul>\n",
    "<ul><b>28 Walc</b> - weekend alcohol consumption (numeric: from 1 - very low to 5 - very high)</ul>\n",
    "<ul><b>29 health</b> - current health status (numeric: from 1 - very bad to 5 - very good)</ul>\n",
    "<ul><b>30 absences</b> - number of school absences (numeric: from 0 to 93)</ul>\n",
    "\n",
    "<ul>these grades are related with the course subject, Math or Portuguese:</ul>\n",
    "<ul><b>31 G1</b> - first period grade (numeric: from 0 to 20)</ul>\n",
    "<ul><b>31 G2</b> - second period grade (numeric: from 0 to 20)</ul>\n",
    "<ul><b>32 G3</b> - final grade (numeric: from 0 to 20, output target)</ul>\n",
    "</div>"
   ]
  },
  {
   "cell_type": "code",
   "execution_count": null,
   "metadata": {},
   "outputs": [],
   "source": [
    "grades.isnull().sum()"
   ]
  },
  {
   "cell_type": "code",
   "execution_count": null,
   "metadata": {},
   "outputs": [],
   "source": [
    "grades.dtypes"
   ]
  },
  {
   "cell_type": "code",
   "execution_count": null,
   "metadata": {},
   "outputs": [],
   "source": [
    "grades_df_obj = grades.select_dtypes(exclude=['int64'])\n",
    "grades_df_obj.head()"
   ]
  },
  {
   "cell_type": "code",
   "execution_count": null,
   "metadata": {},
   "outputs": [],
   "source": [
    "grades_df_int = grades.select_dtypes(include=['int64'])\n",
    "grades_df_int.head()"
   ]
  },
  {
   "cell_type": "code",
   "execution_count": null,
   "metadata": {},
   "outputs": [],
   "source": [
    "X = grades_df_int[['studytime', 'failures', 'freetime', 'absences', 'health', 'G1', 'G2']]\n",
    "y = grades_df_int['G3']"
   ]
  },
  {
   "cell_type": "code",
   "execution_count": null,
   "metadata": {},
   "outputs": [],
   "source": [
    "#### studytime: 1 - <2 hours, 2 - 2 to 5 hours, 3 - 5 to 10 hours, or 4 - >10 hours\n",
    "#### failures: n if 1<=n<3, else 4\n",
    "#### freetime: from 1 - very low to 5 - very high\n",
    "#### absences: from 0 to 93\n",
    "#### health: from 1 - very bad to 5 - very good\n",
    "#### G1: from 0 to 20\n",
    "#### G2: from 0 to 20"
   ]
  },
  {
   "cell_type": "code",
   "execution_count": null,
   "metadata": {},
   "outputs": [],
   "source": []
  },
  {
   "cell_type": "code",
   "execution_count": null,
   "metadata": {},
   "outputs": [],
   "source": []
  },
  {
   "cell_type": "code",
   "execution_count": null,
   "metadata": {},
   "outputs": [],
   "source": []
  },
  {
   "cell_type": "code",
   "execution_count": null,
   "metadata": {},
   "outputs": [],
   "source": []
  },
  {
   "cell_type": "code",
   "execution_count": null,
   "metadata": {},
   "outputs": [],
   "source": []
  },
  {
   "cell_type": "code",
   "execution_count": null,
   "metadata": {},
   "outputs": [],
   "source": []
  },
  {
   "cell_type": "code",
   "execution_count": null,
   "metadata": {},
   "outputs": [],
   "source": []
  },
  {
   "cell_type": "code",
   "execution_count": null,
   "metadata": {},
   "outputs": [],
   "source": []
  },
  {
   "cell_type": "code",
   "execution_count": null,
   "metadata": {},
   "outputs": [],
   "source": []
  }
 ],
 "metadata": {
  "kernelspec": {
   "display_name": "Python 3",
   "language": "python",
   "name": "python3"
  },
  "language_info": {
   "codemirror_mode": {
    "name": "ipython",
    "version": 3
   },
   "file_extension": ".py",
   "mimetype": "text/x-python",
   "name": "python",
   "nbconvert_exporter": "python",
   "pygments_lexer": "ipython3",
   "version": "3.7.3"
  }
 },
 "nbformat": 4,
 "nbformat_minor": 2
}
